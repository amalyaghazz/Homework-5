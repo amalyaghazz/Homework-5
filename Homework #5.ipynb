{
 "cells": [
  {
   "cell_type": "code",
   "execution_count": 10,
   "id": "1c724e16",
   "metadata": {},
   "outputs": [
    {
     "name": "stdout",
     "output_type": "stream",
     "text": [
      "Hi, my name is Adam I am a 25 year old male and I am 5.10\n",
      "Hi, my name is Caroline I am a 43 year old female and I am 5.5\n"
     ]
    }
   ],
   "source": [
    "#Question 1\n",
    "\n",
    "class Human:\n",
    "    ishoposapien = True\n",
    "    needssleep = True\n",
    "    canreproduce = True\n",
    "    needsfood = True\n",
    "    def __init__(self,name,age,gender,height):\n",
    "        self.name = name\n",
    "        self.age = age\n",
    "        self.gender = gender\n",
    "        self.height = height\n",
    "    def introduce(self):\n",
    "        print(\"Hi, my name is\", self.name, \"I am a\", self.age, \"year old\", self.gender, \"and I am\", self.height, )\n",
    "        \n",
    "A = Human('Adam', 25, 'male', '5.10')\n",
    "B = Human('Caroline', 43, 'female', '5.5')\n",
    "\n",
    "A.introduce()\n",
    "B.introduce()"
   ]
  },
  {
   "cell_type": "code",
   "execution_count": 11,
   "id": "31ce17d8",
   "metadata": {},
   "outputs": [
    {
     "data": {
      "text/plain": [
       "5.0"
      ]
     },
     "execution_count": 11,
     "metadata": {},
     "output_type": "execute_result"
    }
   ],
   "source": [
    "#Question 2\n",
    "\n",
    "import math \n",
    "\n",
    "class Point:\n",
    "    def __init__(self, x=0, y=0):\n",
    "        self.x = x\n",
    "        self.y = y\n",
    "    def distance(self):\n",
    "        return (self.x ** 2 + self.y ** 2)**0.5\n",
    "    \n",
    "A = Point(3,4)\n",
    "A.distance()"
   ]
  },
  {
   "cell_type": "code",
   "execution_count": null,
   "id": "ab0426ab",
   "metadata": {},
   "outputs": [],
   "source": [
    "#Question 3\n",
    "#Answer is A"
   ]
  },
  {
   "cell_type": "code",
   "execution_count": 14,
   "id": "cc547c7c",
   "metadata": {},
   "outputs": [
    {
     "name": "stdout",
     "output_type": "stream",
     "text": [
      "helloworld\n"
     ]
    }
   ],
   "source": [
    "#Question 4\n",
    "def main():\n",
    "    print(\"hello\", end=\"\")\n",
    "    \n",
    "try: \n",
    "    if __name__ == \"__main__\":\n",
    "        main()\n",
    "\n",
    "except:\n",
    "    print(\"name\")\n",
    "finally:\n",
    "    print(\"world\")\n",
    "            "
   ]
  },
  {
   "cell_type": "code",
   "execution_count": null,
   "id": "db09148b",
   "metadata": {},
   "outputs": [],
   "source": [
    "#Question 5\n",
    "#Answer is C"
   ]
  },
  {
   "cell_type": "code",
   "execution_count": null,
   "id": "ee6d0004",
   "metadata": {},
   "outputs": [],
   "source": [
    "#Question 6\n",
    "x = \"hello\"\n",
    "if not type(x) is int:\n",
    "    raise TypeError(\"Only integers are allowed\")"
   ]
  },
  {
   "cell_type": "code",
   "execution_count": null,
   "id": "4948b574",
   "metadata": {},
   "outputs": [],
   "source": []
  },
  {
   "cell_type": "code",
   "execution_count": null,
   "id": "607a323c",
   "metadata": {},
   "outputs": [],
   "source": []
  },
  {
   "cell_type": "code",
   "execution_count": null,
   "id": "fcc0ea01",
   "metadata": {},
   "outputs": [],
   "source": []
  }
 ],
 "metadata": {
  "kernelspec": {
   "display_name": "Python 3 (ipykernel)",
   "language": "python",
   "name": "python3"
  },
  "language_info": {
   "codemirror_mode": {
    "name": "ipython",
    "version": 3
   },
   "file_extension": ".py",
   "mimetype": "text/x-python",
   "name": "python",
   "nbconvert_exporter": "python",
   "pygments_lexer": "ipython3",
   "version": "3.9.13"
  }
 },
 "nbformat": 4,
 "nbformat_minor": 5
}
